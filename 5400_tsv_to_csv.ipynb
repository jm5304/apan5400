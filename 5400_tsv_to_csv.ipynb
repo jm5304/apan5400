{
 "cells": [
  {
   "cell_type": "code",
   "execution_count": 2,
   "id": "64f25a49",
   "metadata": {},
   "outputs": [
    {
     "name": "stdout",
     "output_type": "stream",
     "text": [
      "Successfully made csv file\n"
     ]
    }
   ],
   "source": [
    "#Python program to convert .tsv file to .csv file\n",
    "# importing pandas library\n",
    "import pandas as pd \n",
    "  \n",
    "tsv_file='title_akas.tsv'\n",
    "  \n",
    "# readinag given tsv file\n",
    "csv_table=pd.read_table(tsv_file,sep='\\t',low_memory=False)\n",
    "  \n",
    "# converting tsv file into csv\n",
    "csv_table.to_csv('title_akas.csv',index=False)\n",
    "  \n",
    "# output\n",
    "print(\"Successfully made csv file\")"
   ]
  },
  {
   "cell_type": "code",
   "execution_count": 3,
   "id": "ee78e466",
   "metadata": {},
   "outputs": [
    {
     "name": "stdout",
     "output_type": "stream",
     "text": [
      "Successfully made csv file\n"
     ]
    }
   ],
   "source": [
    "#Python program to convert .tsv file to .csv file\n",
    "# importing pandas library\n",
    "import pandas as pd \n",
    "  \n",
    "tsv_file='title_basic.tsv'\n",
    "  \n",
    "# readinag given tsv file\n",
    "csv_table=pd.read_table(tsv_file,sep='\\t',low_memory=False)\n",
    "  \n",
    "# converting tsv file into csv\n",
    "csv_table.to_csv('title_basic.csv',index=False)\n",
    "  \n",
    "# output\n",
    "print(\"Successfully made csv file\")\n"
   ]
  },
  {
   "cell_type": "code",
   "execution_count": 4,
   "id": "f2c94371",
   "metadata": {},
   "outputs": [
    {
     "name": "stdout",
     "output_type": "stream",
     "text": [
      "Successfully made csv file\n"
     ]
    }
   ],
   "source": [
    "#Python program to convert .tsv file to .csv file\n",
    "# importing pandas library\n",
    "import pandas as pd \n",
    "  \n",
    "tsv_file='title_rating.tsv'\n",
    "  \n",
    "# readinag given tsv file\n",
    "csv_table=pd.read_table(tsv_file,sep='\\t',low_memory=False)\n",
    "  \n",
    "# converting tsv file into csv\n",
    "csv_table.to_csv('title_rating.csv',index=False)\n",
    "  \n",
    "# output\n",
    "print(\"Successfully made csv file\")\n"
   ]
  },
  {
   "cell_type": "code",
   "execution_count": null,
   "id": "98357f63",
   "metadata": {},
   "outputs": [],
   "source": []
  }
 ],
 "metadata": {
  "kernelspec": {
   "display_name": "Python 3 (ipykernel)",
   "language": "python",
   "name": "python3"
  },
  "language_info": {
   "codemirror_mode": {
    "name": "ipython",
    "version": 3
   },
   "file_extension": ".py",
   "mimetype": "text/x-python",
   "name": "python",
   "nbconvert_exporter": "python",
   "pygments_lexer": "ipython3",
   "version": "3.9.12"
  }
 },
 "nbformat": 4,
 "nbformat_minor": 5
}

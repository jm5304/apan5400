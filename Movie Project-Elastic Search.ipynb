{
 "cells": [
  {
   "cell_type": "markdown",
   "id": "19bccba8",
   "metadata": {},
   "source": [
    "# Elastic Search - Flask \n",
    "\n",
    "#### Youhan Pan\n",
    "\n",
    "### Flask & Elastic Search Preparation"
   ]
  },
  {
   "cell_type": "code",
   "execution_count": 1,
   "id": "6bb52541",
   "metadata": {},
   "outputs": [
    {
     "name": "stdout",
     "output_type": "stream",
     "text": [
      "Requirement already satisfied: Flask in /Users/youhanpan/opt/anaconda3/lib/python3.9/site-packages (1.1.2)\n",
      "Requirement already satisfied: Jinja2>=2.10.1 in /Users/youhanpan/opt/anaconda3/lib/python3.9/site-packages (from Flask) (2.11.3)\n",
      "Requirement already satisfied: click>=5.1 in /Users/youhanpan/opt/anaconda3/lib/python3.9/site-packages (from Flask) (7.0)\n",
      "Requirement already satisfied: Werkzeug>=0.15 in /Users/youhanpan/opt/anaconda3/lib/python3.9/site-packages (from Flask) (2.0.2)\n",
      "Requirement already satisfied: itsdangerous>=0.24 in /Users/youhanpan/opt/anaconda3/lib/python3.9/site-packages (from Flask) (2.0.1)\n",
      "Requirement already satisfied: MarkupSafe>=0.23 in /Users/youhanpan/opt/anaconda3/lib/python3.9/site-packages (from Jinja2>=2.10.1->Flask) (1.1.1)\n",
      "Note: you may need to restart the kernel to use updated packages.\n"
     ]
    }
   ],
   "source": [
    "pip install Flask"
   ]
  },
  {
   "cell_type": "code",
   "execution_count": 2,
   "id": "8f77b6aa",
   "metadata": {},
   "outputs": [],
   "source": [
    "from flask import request\n",
    "from flask import Flask, render_template"
   ]
  },
  {
   "cell_type": "code",
   "execution_count": 3,
   "id": "ab01d8fe",
   "metadata": {},
   "outputs": [
    {
     "name": "stderr",
     "output_type": "stream",
     "text": [
      "/Users/youhanpan/opt/anaconda3/lib/python3.9/site-packages/elasticsearch/connection/base.py:200: ElasticsearchWarning: [types removal] Specifying types in bulk requests is deprecated.\n",
      "  warnings.warn(message, category=ElasticsearchWarning)\n"
     ]
    }
   ],
   "source": [
    "# Connet to elasticsearch\n",
    "from elasticsearch import Elasticsearch\n",
    "client = Elasticsearch(\"http://localhost:9200\") \n",
    "\n",
    "from elasticsearch_dsl import connections\n",
    "client = connections.create_connection(\"http://localhost:9200\")\n",
    "\n",
    "# Import dataset to elasticsearch\n",
    "from elasticsearch import helpers, Elasticsearch\n",
    "import pandas as pd\n",
    "import json\n",
    "\n",
    "df = pd.read_csv('/Users/youhanpan/Desktop/Movie Project/TMDb_final.csv')\n",
    "json_str = df.to_json(orient='records')\n",
    "\n",
    "json_records = json.loads(json_str)\n",
    "\n",
    "es = Elasticsearch()\n",
    "index_name = 'title'\n",
    "doctype = 'movie_record'\n",
    "es.indices.delete(index=index_name, ignore=[400, 404])\n",
    "es.indices.create(index=index_name, ignore=400)\n",
    "action_list = []\n",
    "for row in json_records:\n",
    "    record ={\n",
    "        '_op_type': 'index',\n",
    "        '_index': index_name,\n",
    "        '_type' : doctype,\n",
    "        '_source': row\n",
    "    }\n",
    "    action_list.append(record)\n",
    "helpers.bulk(es, action_list)\n",
    "\n",
    "from elasticsearch_dsl import Search\n",
    "from pprint import pprint "
   ]
  },
  {
   "cell_type": "markdown",
   "id": "45a11c41",
   "metadata": {},
   "source": [
    "### Movie Votes & Rating"
   ]
  },
  {
   "cell_type": "code",
   "execution_count": null,
   "id": "6b4237e8",
   "metadata": {},
   "outputs": [
    {
     "name": "stdout",
     "output_type": "stream",
     "text": [
      " * Serving Flask app \"APAN5400App\" (lazy loading)\n",
      " * Environment: production\n",
      "   WARNING: This is a development server. Do not use it in a production deployment.\n",
      "   Use a production WSGI server instead.\n",
      " * Debug mode: off\n"
     ]
    },
    {
     "name": "stderr",
     "output_type": "stream",
     "text": [
      " * Running on http://localhost:5020/ (Press CTRL+C to quit)\n",
      "127.0.0.1 - - [20/Aug/2022 23:24:08] \"GET / HTTP/1.1\" 200 -\n",
      "127.0.0.1 - - [20/Aug/2022 23:24:10] \"POST / HTTP/1.1\" 200 -\n"
     ]
    }
   ],
   "source": [
    "app = Flask(\"APAN5400App\")\n",
    "\n",
    "@app.route('/')\n",
    "def my_form():\n",
    "    return render_template(\"my-form.html\")\n",
    "\n",
    "@app.route('/', methods=['POST'])\n",
    "def my_form_post():\n",
    "    qry = request.form['userinput']\n",
    "\n",
    "#    qry 输出 Movie Name\n",
    "\n",
    "    # vote_average and vote_count result of The Godfather\n",
    "\n",
    "    s = Search(using=client, index=\"title\") \\\n",
    "        .query(\"match\", title=qry)\n",
    "    response = s.execute()\n",
    "    \n",
    "    len(response)\n",
    "    \n",
    "    dd = list(response)\n",
    "    \n",
    "    ff = {}\n",
    "    \n",
    "    ff[\"vote_average\"] = dd[1]['vote_average']\n",
    "    \n",
    "    return ff\n",
    "\n",
    "\n",
    "app.run(host='localhost', port=5020)"
   ]
  },
  {
   "cell_type": "markdown",
   "id": "3a658074",
   "metadata": {},
   "source": [
    "### Elastic Search Analysis Introduction\n",
    "\n",
    "I first converted the New York Times's API to JSON, tried to calculate the number of \"critics top picks\" to make a list of popular movies from 1970s to 2020s, and then picked the top 3 movies to evaluate professional film critics' reviews on them. Hence, I can create a model to recommend movies with the most positive reviews to potential American streaming platforms. Unfortunately, this NYT plan did not work out due to the limited outsources provided (e.g. \"Pulp Fiction\" and \"The Shawshank Redemption\" only have one critic review available). To make my analysis more accurate, I researched for more useful and meaningful datasets from Kaggle. \n",
    "\n",
    "In this analysis, I will select the Top 3 rated and voted movies from recently updated TMDb dataset and further research these films' critics and the sentiment of their reviews on Rotten Tomatoes, which is an American review-aggregation website for film and television. Eventually, this model could test out any film's sentimental feedbacks (positive, negative, or neutral) from regular audiences. \n",
    "\n",
    "### Elasticsearch Preparation\n",
    "\n",
    "To make the elasticsearch process easier, I coverted CSV file into JSON."
   ]
  },
  {
   "cell_type": "code",
   "execution_count": 3,
   "id": "e64afd30",
   "metadata": {},
   "outputs": [],
   "source": [
    "# Connet to elasticsearch\n",
    "from elasticsearch import Elasticsearch\n",
    "client = Elasticsearch(\"http://localhost:9200\") \n",
    "\n",
    "from elasticsearch_dsl import connections\n",
    "client = connections.create_connection(\"http://localhost:9200\")"
   ]
  },
  {
   "cell_type": "code",
   "execution_count": 10,
   "id": "34bbd47d",
   "metadata": {},
   "outputs": [
    {
     "data": {
      "text/plain": [
       "(10000, [])"
      ]
     },
     "execution_count": 10,
     "metadata": {},
     "output_type": "execute_result"
    }
   ],
   "source": [
    "# Import dataset to elasticsearch\n",
    "from elasticsearch import helpers, Elasticsearch\n",
    "import pandas as pd\n",
    "import json\n",
    "\n",
    "df = pd.read_csv('/Users/youhanpan/Desktop/Movie Project/TMDb_final.csv')\n",
    "json_str = df.to_json(orient='records')\n",
    "\n",
    "json_records = json.loads(json_str)\n",
    "\n",
    "es = Elasticsearch()\n",
    "index_name = 'title'\n",
    "doctype = 'movie_record'\n",
    "es.indices.delete(index=index_name, ignore=[400, 404])\n",
    "es.indices.create(index=index_name, ignore=400)\n",
    "action_list = []\n",
    "for row in json_records:\n",
    "    record ={\n",
    "        '_op_type': 'index',\n",
    "        '_index': index_name,\n",
    "        '_type' : doctype,\n",
    "        '_source': row\n",
    "    }\n",
    "    action_list.append(record)\n",
    "helpers.bulk(es, action_list)"
   ]
  },
  {
   "cell_type": "code",
   "execution_count": 11,
   "id": "0f02497f",
   "metadata": {},
   "outputs": [],
   "source": [
    "from elasticsearch_dsl import Search\n",
    "from pprint import pprint "
   ]
  },
  {
   "cell_type": "markdown",
   "id": "b82516ca",
   "metadata": {},
   "source": [
    "### Top Votes & Rates Movies\n",
    "\n",
    "I have tried Multisearch to list the top 10 films with both highest votes (vote_count) and rates (vote_average). However, I ended up with 20 results of both sections' top 10. To solve this problem, I first printed more highly voted or viewed films and then compared their reviews' ratings to select the finalists. The reason why of doing selection based on both factors is because films with tons of votes do not often have a high rating score while one full score (10 out of 10) can give a film a supper high rating average. To fairly pick and choose top popular or classic movies, I would like to combine both elements in consideration. "
   ]
  },
  {
   "cell_type": "code",
   "execution_count": 22,
   "id": "1a755e3e",
   "metadata": {},
   "outputs": [
    {
     "name": "stdout",
     "output_type": "stream",
     "text": [
      "Inception 25148\n",
      "Deadpool 22225\n",
      "The Avengers 21893\n",
      "Interstellar 21589\n",
      "The Dark Knight 21561\n",
      "Avatar 20778\n",
      "Guardians of the Galaxy 20132\n",
      "Fight Club 18664\n",
      "Pulp Fiction 18003\n",
      "Django Unchained 17864\n",
      "Iron Man 17828\n",
      "Avengers: Infinity War 17408\n",
      "Forrest Gump 17344\n",
      "The Matrix 16481\n",
      "The Lord of the Rings: The Fellowship of the Ring 16434\n",
      "Titanic 16434\n",
      "Harry Potter and the Philosopher's Stone 16220\n",
      "The Hunger Games 16015\n",
      "Mad Max: Fury Road 15987\n",
      "Iron Man 3 15780\n",
      "Captain America: Civil War 15755\n",
      "The Dark Knight Rises 15616\n",
      "The Shawshank Redemption 15522\n",
      "Avengers: Age of Ultron 15376\n",
      "Jurassic World 15292\n",
      "Suicide Squad 15125\n",
      "The Lord of the Rings: The Return of the King 14987\n",
      "Shutter Island 14891\n",
      "Black Panther 14662\n",
      "The Wolf of Wall Street 14617\n"
     ]
    }
   ],
   "source": [
    "# Top 30 in vote counts \n",
    "\n",
    "s = Search(using=client, index=\"title\") \\\n",
    "    .sort({'vote_count': {'order': 'desc'}}) \\\n",
    "    .extra(size = 30)\n",
    "response = s.execute()\n",
    "\n",
    "for hit in response:\n",
    "    print(hit.title, hit.vote_count)"
   ]
  },
  {
   "cell_type": "code",
   "execution_count": 18,
   "id": "4d35e266",
   "metadata": {},
   "outputs": [
    {
     "name": "stdout",
     "output_type": "stream",
     "text": [
      "Mamu (and a Mother Too) 10.0\n",
      "Four Kids and It 10.0\n",
      "The Water Monster 10.0\n",
      "Prostitution 10.0\n",
      "You're Bacon Me Crazy 10.0\n",
      "Gully 10.0\n",
      "Erotica:  Moonlight 9.8\n",
      "Bulletproof 2 9.5\n",
      "Bad Education 9.5\n",
      "Kinky Boots: The Musical 9.2\n",
      "Sub Rosa 9.0\n",
      "Ordinary Love 9.0\n",
      "And What Is He Like? 9.0\n",
      "Tisay 9.0\n",
      "Dilwale Dulhania Le Jayenge 8.8\n",
      "Steven Universe: The Movie 8.8\n",
      "The Seven Swords 8.8\n",
      "Mother's Friend 8.8\n",
      "Lemonade 8.8\n",
      "The Shawshank Redemption 8.7\n",
      "The Godfather 8.7\n",
      "Away 8.7\n",
      "Season of Love 8.7\n",
      "Live at Wembley Stadium 8.7\n",
      "Love Takes Flight 8.7\n",
      "Pink Floyd: Pulse 8.7\n",
      "Schindler's List 8.6\n",
      "KonoSuba: God's Blessing on this Wonderful World! Legend of Crimson 8.6\n",
      "For Sama 8.6\n",
      "One Love Manchester 8.6\n"
     ]
    }
   ],
   "source": [
    "# Top 30 in vote average rating  \n",
    "\n",
    "s = Search(using=client, index=\"title\") \\\n",
    "    .sort({'vote_average': {'order': 'desc'}}) \\\n",
    "    .extra(size = 30)\n",
    "response = s.execute()\n",
    "\n",
    "for hit in response:\n",
    "    print(hit.title, hit.vote_average)"
   ]
  },
  {
   "cell_type": "code",
   "execution_count": 58,
   "id": "903185bf",
   "metadata": {},
   "outputs": [
    {
     "name": "stdout",
     "output_type": "stream",
     "text": [
      "The Shawshank Redemption 8.7 15522\n"
     ]
    }
   ],
   "source": [
    "# vote_average and vote_count result of The Shawshank Redemption\n",
    "\n",
    "s = Search(using=client, index=\"title\") \\\n",
    "    .query(\"match\", title=\"Shawshank\")\n",
    "response = s.execute()\n",
    "\n",
    "for hit in response:\n",
    "        print(hit.title, hit.vote_average, hit.vote_count)"
   ]
  },
  {
   "cell_type": "code",
   "execution_count": 51,
   "id": "d71e2c10",
   "metadata": {},
   "outputs": [
    {
     "name": "stdout",
     "output_type": "stream",
     "text": [
      "The Godfather 8.7 11768\n",
      "Our Godfather 6.6 28\n",
      "The Godfather: Part II 8.5 6917\n",
      "The Godfather: Part III 7.4 3461\n"
     ]
    }
   ],
   "source": [
    "# vote_average and vote_count result of The Godfather\n",
    "\n",
    "s = Search(using=client, index=\"title\") \\\n",
    "    .query(\"match\", title=\"godfather\")\n",
    "response = s.execute()\n",
    "\n",
    "for hit in response:\n",
    "    print(hit.title, hit.vote_average, hit.vote_count)"
   ]
  },
  {
   "cell_type": "code",
   "execution_count": 59,
   "id": "d1729581",
   "metadata": {},
   "outputs": [
    {
     "name": "stdout",
     "output_type": "stream",
     "text": [
      "Pulp Fiction 8.5 18003\n"
     ]
    }
   ],
   "source": [
    "# vote_average and vote_count result of Pulp Fiction\n",
    "\n",
    "s = Search(using=client, index=\"title\") \\\n",
    "    .query(\"match\", title=\"pulp\")\n",
    "response = s.execute()\n",
    "\n",
    "for hit in response:\n",
    "        print(hit.title, hit.vote_average, hit.vote_count)"
   ]
  },
  {
   "cell_type": "markdown",
   "id": "70f0b22d",
   "metadata": {},
   "source": [
    "Due to the previous counting results, I have chosen the following three movies (The Godfather; The Shawshank Redemption; Pulp Fiction) to be the Top 3 classics for further research. \n",
    "\n",
    "                                    Rating       Votes\n",
    "    (1)The Shawshank Redemption     8.7          15522\n",
    "    (2)The Godfather                8.7          11768\n",
    "    (3)Pulp Fiction                 8.5          18003\n",
    "\n",
    "### Movie Reviews\n",
    "\n",
    "Both datasets are downloaded as CSV files. Since both datasets are relatively dependent on its \"rotten_tomatoes_link\" column to identify each film, I combined both movie and review files based on films' individual links. The most significant elements that I need here are \"movie_title\" with its \"top_critic\" and \"review_content\". \n",
    "\n",
    "My assumption of the top films' order is presented above; however, I want to double-check and prove this order with the picks from the top critics. Furthermore, I want to know whether the most popular movies often get the most attention from critics as well. Working with the \"top_critic\" column, I simply print the number of 'False' and 'True' and calculate each film's frequency (percentage) of hitting the top critic."
   ]
  },
  {
   "cell_type": "code",
   "execution_count": 72,
   "id": "79a3cbe5",
   "metadata": {},
   "outputs": [
    {
     "data": {
      "text/html": [
       "<div>\n",
       "<style scoped>\n",
       "    .dataframe tbody tr th:only-of-type {\n",
       "        vertical-align: middle;\n",
       "    }\n",
       "\n",
       "    .dataframe tbody tr th {\n",
       "        vertical-align: top;\n",
       "    }\n",
       "\n",
       "    .dataframe thead th {\n",
       "        text-align: right;\n",
       "    }\n",
       "</style>\n",
       "<table border=\"1\" class=\"dataframe\">\n",
       "  <thead>\n",
       "    <tr style=\"text-align: right;\">\n",
       "      <th></th>\n",
       "      <th>movie_title</th>\n",
       "      <th>top_critic</th>\n",
       "      <th>review_content</th>\n",
       "    </tr>\n",
       "  </thead>\n",
       "  <tbody>\n",
       "    <tr>\n",
       "      <th>0</th>\n",
       "      <td>Percy Jackson &amp; the Olympians: The Lightning T...</td>\n",
       "      <td>False</td>\n",
       "      <td>A fantasy adventure that fuses Greek mythology...</td>\n",
       "    </tr>\n",
       "    <tr>\n",
       "      <th>1</th>\n",
       "      <td>Percy Jackson &amp; the Olympians: The Lightning T...</td>\n",
       "      <td>False</td>\n",
       "      <td>Uma Thurman as Medusa, the gorgon with a coiff...</td>\n",
       "    </tr>\n",
       "    <tr>\n",
       "      <th>2</th>\n",
       "      <td>Percy Jackson &amp; the Olympians: The Lightning T...</td>\n",
       "      <td>False</td>\n",
       "      <td>With a top-notch cast and dazzling special eff...</td>\n",
       "    </tr>\n",
       "    <tr>\n",
       "      <th>3</th>\n",
       "      <td>Percy Jackson &amp; the Olympians: The Lightning T...</td>\n",
       "      <td>False</td>\n",
       "      <td>Whether audiences will get behind The Lightnin...</td>\n",
       "    </tr>\n",
       "    <tr>\n",
       "      <th>4</th>\n",
       "      <td>Percy Jackson &amp; the Olympians: The Lightning T...</td>\n",
       "      <td>True</td>\n",
       "      <td>What's really lacking in The Lightning Thief i...</td>\n",
       "    </tr>\n",
       "    <tr>\n",
       "      <th>5</th>\n",
       "      <td>Percy Jackson &amp; the Olympians: The Lightning T...</td>\n",
       "      <td>True</td>\n",
       "      <td>It's more a list of ingredients than a movie-m...</td>\n",
       "    </tr>\n",
       "    <tr>\n",
       "      <th>6</th>\n",
       "      <td>Percy Jackson &amp; the Olympians: The Lightning T...</td>\n",
       "      <td>False</td>\n",
       "      <td>Harry Potter knockoffs don't come more transpa...</td>\n",
       "    </tr>\n",
       "    <tr>\n",
       "      <th>7</th>\n",
       "      <td>Percy Jackson &amp; the Olympians: The Lightning T...</td>\n",
       "      <td>True</td>\n",
       "      <td>Percy Jackson isn't a great movie, but it's a ...</td>\n",
       "    </tr>\n",
       "    <tr>\n",
       "      <th>8</th>\n",
       "      <td>Percy Jackson &amp; the Olympians: The Lightning T...</td>\n",
       "      <td>False</td>\n",
       "      <td>Fun, brisk and imaginative</td>\n",
       "    </tr>\n",
       "    <tr>\n",
       "      <th>9</th>\n",
       "      <td>Percy Jackson &amp; the Olympians: The Lightning T...</td>\n",
       "      <td>True</td>\n",
       "      <td>Crammed with dragons, set-destroying fights an...</td>\n",
       "    </tr>\n",
       "  </tbody>\n",
       "</table>\n",
       "</div>"
      ],
      "text/plain": [
       "                                         movie_title top_critic  \\\n",
       "0  Percy Jackson & the Olympians: The Lightning T...      False   \n",
       "1  Percy Jackson & the Olympians: The Lightning T...      False   \n",
       "2  Percy Jackson & the Olympians: The Lightning T...      False   \n",
       "3  Percy Jackson & the Olympians: The Lightning T...      False   \n",
       "4  Percy Jackson & the Olympians: The Lightning T...       True   \n",
       "5  Percy Jackson & the Olympians: The Lightning T...       True   \n",
       "6  Percy Jackson & the Olympians: The Lightning T...      False   \n",
       "7  Percy Jackson & the Olympians: The Lightning T...       True   \n",
       "8  Percy Jackson & the Olympians: The Lightning T...      False   \n",
       "9  Percy Jackson & the Olympians: The Lightning T...       True   \n",
       "\n",
       "                                      review_content  \n",
       "0  A fantasy adventure that fuses Greek mythology...  \n",
       "1  Uma Thurman as Medusa, the gorgon with a coiff...  \n",
       "2  With a top-notch cast and dazzling special eff...  \n",
       "3  Whether audiences will get behind The Lightnin...  \n",
       "4  What's really lacking in The Lightning Thief i...  \n",
       "5  It's more a list of ingredients than a movie-m...  \n",
       "6  Harry Potter knockoffs don't come more transpa...  \n",
       "7  Percy Jackson isn't a great movie, but it's a ...  \n",
       "8                         Fun, brisk and imaginative  \n",
       "9  Crammed with dragons, set-destroying fights an...  "
      ]
     },
     "execution_count": 72,
     "metadata": {},
     "output_type": "execute_result"
    }
   ],
   "source": [
    "# Import Rotten Tomatoes movies and critic reviews dataset\n",
    "df1 = pd.read_csv('/Users/youhanpan/Desktop/Movie Project/rotten_tomatoes_critic_reviews.csv')\n",
    "df2 = pd.read_csv('/Users/youhanpan/Desktop/Movie Project/rotten_tomatoes_movies.csv')\n",
    "\n",
    "# Merge movie info with movie reviews, and only keep movie_title, top_critic, review_content columns\n",
    "review = pd.merge(df2, df1, how = 'left', on = 'rotten_tomatoes_link')\n",
    "review = review[['movie_title', 'top_critic', 'review_content']]\n",
    "\n",
    "# Preview review table\n",
    "review.head(10)"
   ]
  },
  {
   "cell_type": "code",
   "execution_count": 95,
   "id": "8aeb7112",
   "metadata": {},
   "outputs": [
    {
     "data": {
      "text/plain": [
       "top_critic\n",
       "False    100\n",
       "True      38\n",
       "Name: review_content, dtype: int64"
      ]
     },
     "execution_count": 95,
     "metadata": {},
     "output_type": "execute_result"
    }
   ],
   "source": [
    "# Extract review of The Shawshank Redemption\n",
    "shawshank = review[review['movie_title'] == \"The Shawshank Redemption\"]\n",
    "shawshank.groupby(['top_critic'])['review_content'].count()"
   ]
  },
  {
   "cell_type": "code",
   "execution_count": 94,
   "id": "6cef4839",
   "metadata": {},
   "outputs": [
    {
     "data": {
      "text/plain": [
       "top_critic\n",
       "False    68\n",
       "True     23\n",
       "Name: review_content, dtype: int64"
      ]
     },
     "execution_count": 94,
     "metadata": {},
     "output_type": "execute_result"
    }
   ],
   "source": [
    "# Extract review of The Godfather\n",
    "godfather = review[review['movie_title'] == \"The Godfather\"]\n",
    "godfather.groupby(['top_critic'])['review_content'].count()"
   ]
  },
  {
   "cell_type": "code",
   "execution_count": 96,
   "id": "b9a60be7",
   "metadata": {},
   "outputs": [
    {
     "data": {
      "text/plain": [
       "top_critic\n",
       "False    148\n",
       "True      64\n",
       "Name: review_content, dtype: int64"
      ]
     },
     "execution_count": 96,
     "metadata": {},
     "output_type": "execute_result"
    }
   ],
   "source": [
    "# Extract review of Pulp Fiction\n",
    "pulp = review[review['movie_title'] == \"Pulp Fiction\"]\n",
    "pulp.groupby(['top_critic'])['review_content'].count()"
   ]
  },
  {
   "cell_type": "markdown",
   "id": "403aa800",
   "metadata": {},
   "source": [
    "    Extract Review Results\n",
    "                                    Total       Top Critic (%)\n",
    "    (1)Pulp Fiction                 212         30.19%\n",
    "    (2)The Shawshank Redemption     138         27.53%\n",
    "    (3)The Godfather                91          25.27%\n",
    "\n",
    "Surprisingly, Pulp Fiction's reviews have the highest possibility of getting Top Critic over the other two that are considered to be more popular. Meanwhile, I also discovered an interesting trend. When it comes to movies like Pulp Fiction, the tastes of the viewers tend to be largely polarized. There is a group of people that madly loves these movies. There is another group that hates these movies completely. Therefore, conflicting opinions can cause a downward pull in ratings all the time. To further test out my discovered trend, I decided to do sentiment analysis on these critics' reviews.  \n",
    "\n",
    "### Sentiment Analysis on Reviews\n",
    "\n",
    "Categorizing the comments into \"Positive, Neutral, and Negative\", I will continue evaluating Top three movies' reviewers' points of views, and show my work with data visualization in pie charts. "
   ]
  },
  {
   "cell_type": "code",
   "execution_count": 100,
   "id": "b3539106",
   "metadata": {},
   "outputs": [],
   "source": [
    "# Sentiment Analysis Preparation\n",
    "import nltk\n",
    "from nltk.corpus import movie_reviews\n",
    "import random\n",
    "import re"
   ]
  },
  {
   "cell_type": "code",
   "execution_count": 103,
   "id": "252baa48",
   "metadata": {},
   "outputs": [
    {
     "name": "stderr",
     "output_type": "stream",
     "text": [
      "/var/folders/yk/knvjxvn50c1gh3cqkf73vnlc0000gn/T/ipykernel_96369/404978157.py:8: SettingWithCopyWarning: \n",
      "A value is trying to be set on a copy of a slice from a DataFrame.\n",
      "Try using .loc[row_indexer,col_indexer] = value instead\n",
      "\n",
      "See the caveats in the documentation: https://pandas.pydata.org/pandas-docs/stable/user_guide/indexing.html#returning-a-view-versus-a-copy\n",
      "  godfather['Cleaned Reviews'] = godfather['review_content'].apply(clean)\n",
      "/var/folders/yk/knvjxvn50c1gh3cqkf73vnlc0000gn/T/ipykernel_96369/404978157.py:9: SettingWithCopyWarning: \n",
      "A value is trying to be set on a copy of a slice from a DataFrame.\n",
      "Try using .loc[row_indexer,col_indexer] = value instead\n",
      "\n",
      "See the caveats in the documentation: https://pandas.pydata.org/pandas-docs/stable/user_guide/indexing.html#returning-a-view-versus-a-copy\n",
      "  shawshank['Cleaned Reviews'] = shawshank['review_content'].apply(clean)\n",
      "/var/folders/yk/knvjxvn50c1gh3cqkf73vnlc0000gn/T/ipykernel_96369/404978157.py:10: SettingWithCopyWarning: \n",
      "A value is trying to be set on a copy of a slice from a DataFrame.\n",
      "Try using .loc[row_indexer,col_indexer] = value instead\n",
      "\n",
      "See the caveats in the documentation: https://pandas.pydata.org/pandas-docs/stable/user_guide/indexing.html#returning-a-view-versus-a-copy\n",
      "  pulp['Cleaned Reviews'] = pulp['review_content'].apply(clean)\n"
     ]
    }
   ],
   "source": [
    "# Define a function to clean the text\n",
    "def clean(text):\n",
    "# Removes all special characters and numericals leaving the alphabets\n",
    "    text = re.sub('[^A-Za-z]+', ' ', str(text))\n",
    "    return text\n",
    "\n",
    "# Cleaning the text in the review_content column\n",
    "godfather['Cleaned Reviews'] = godfather['review_content'].apply(clean)\n",
    "shawshank['Cleaned Reviews'] = shawshank['review_content'].apply(clean)\n",
    "pulp['Cleaned Reviews'] = pulp['review_content'].apply(clean)"
   ]
  },
  {
   "cell_type": "code",
   "execution_count": 108,
   "id": "4cbc57f2",
   "metadata": {},
   "outputs": [
    {
     "name": "stderr",
     "output_type": "stream",
     "text": [
      "[nltk_data] Downloading package punkt to /Users/youhanpan/nltk_data...\n",
      "[nltk_data]   Package punkt is already up-to-date!\n",
      "[nltk_data] Downloading package averaged_perceptron_tagger to\n",
      "[nltk_data]     /Users/youhanpan/nltk_data...\n",
      "[nltk_data]   Package averaged_perceptron_tagger is already up-to-\n",
      "[nltk_data]       date!\n",
      "[nltk_data] Downloading package stopwords to\n",
      "[nltk_data]     /Users/youhanpan/nltk_data...\n",
      "[nltk_data]   Package stopwords is already up-to-date!\n",
      "[nltk_data] Downloading package wordnet to\n",
      "[nltk_data]     /Users/youhanpan/nltk_data...\n",
      "[nltk_data]   Package wordnet is already up-to-date!\n",
      "/var/folders/yk/knvjxvn50c1gh3cqkf73vnlc0000gn/T/ipykernel_96369/2231246141.py:22: SettingWithCopyWarning: \n",
      "A value is trying to be set on a copy of a slice from a DataFrame.\n",
      "Try using .loc[row_indexer,col_indexer] = value instead\n",
      "\n",
      "See the caveats in the documentation: https://pandas.pydata.org/pandas-docs/stable/user_guide/indexing.html#returning-a-view-versus-a-copy\n",
      "  godfather['POS tagged'] = godfather['Cleaned Reviews'].apply(token_stop_pos)\n",
      "/var/folders/yk/knvjxvn50c1gh3cqkf73vnlc0000gn/T/ipykernel_96369/2231246141.py:23: SettingWithCopyWarning: \n",
      "A value is trying to be set on a copy of a slice from a DataFrame.\n",
      "Try using .loc[row_indexer,col_indexer] = value instead\n",
      "\n",
      "See the caveats in the documentation: https://pandas.pydata.org/pandas-docs/stable/user_guide/indexing.html#returning-a-view-versus-a-copy\n",
      "  shawshank['POS tagged'] = shawshank['Cleaned Reviews'].apply(token_stop_pos)\n",
      "/var/folders/yk/knvjxvn50c1gh3cqkf73vnlc0000gn/T/ipykernel_96369/2231246141.py:24: SettingWithCopyWarning: \n",
      "A value is trying to be set on a copy of a slice from a DataFrame.\n",
      "Try using .loc[row_indexer,col_indexer] = value instead\n",
      "\n",
      "See the caveats in the documentation: https://pandas.pydata.org/pandas-docs/stable/user_guide/indexing.html#returning-a-view-versus-a-copy\n",
      "  pulp['POS tagged'] = pulp['Cleaned Reviews'].apply(token_stop_pos)\n"
     ]
    }
   ],
   "source": [
    "# Tokenization, POS tagging and Stopwords removal of review_content\n",
    "import nltk\n",
    "nltk.download('punkt')\n",
    "nltk.download('averaged_perceptron_tagger')\n",
    "from nltk.tokenize import word_tokenize\n",
    "from nltk import pos_tag\n",
    "nltk.download('stopwords')\n",
    "from nltk.corpus import stopwords\n",
    "nltk.download('wordnet')\n",
    "from nltk.corpus import wordnet\n",
    "\n",
    "\n",
    "# POS tagger dictionary\n",
    "pos_dict = {'J':wordnet.ADJ, 'V':wordnet.VERB, 'N':wordnet.NOUN, 'R':wordnet.ADV}\n",
    "def token_stop_pos(text):\n",
    "    tags = pos_tag(word_tokenize(text))\n",
    "    newlist = []\n",
    "    for word, tag in tags:\n",
    "        if word.lower() not in set(stopwords.words('english')):\n",
    "            newlist.append(tuple([word, pos_dict.get(tag[0])]))\n",
    "    return newlist\n",
    "\n",
    "# Apply POS tagging function to review_content\n",
    "godfather['POS tagged'] = godfather['Cleaned Reviews'].apply(token_stop_pos)\n",
    "shawshank['POS tagged'] = shawshank['Cleaned Reviews'].apply(token_stop_pos)\n",
    "pulp['POS tagged'] = pulp['Cleaned Reviews'].apply(token_stop_pos)\n"
   ]
  },
  {
   "cell_type": "code",
   "execution_count": 113,
   "id": "6078a151",
   "metadata": {},
   "outputs": [
    {
     "name": "stderr",
     "output_type": "stream",
     "text": [
      "/var/folders/yk/knvjxvn50c1gh3cqkf73vnlc0000gn/T/ipykernel_96369/4053716268.py:14: SettingWithCopyWarning: \n",
      "A value is trying to be set on a copy of a slice from a DataFrame.\n",
      "Try using .loc[row_indexer,col_indexer] = value instead\n",
      "\n",
      "See the caveats in the documentation: https://pandas.pydata.org/pandas-docs/stable/user_guide/indexing.html#returning-a-view-versus-a-copy\n",
      "  godfather['Lemma'] = godfather['POS tagged'].apply(lemmatize)\n",
      "/var/folders/yk/knvjxvn50c1gh3cqkf73vnlc0000gn/T/ipykernel_96369/4053716268.py:15: SettingWithCopyWarning: \n",
      "A value is trying to be set on a copy of a slice from a DataFrame.\n",
      "Try using .loc[row_indexer,col_indexer] = value instead\n",
      "\n",
      "See the caveats in the documentation: https://pandas.pydata.org/pandas-docs/stable/user_guide/indexing.html#returning-a-view-versus-a-copy\n",
      "  shawshank['Lemma'] = shawshank['POS tagged'].apply(lemmatize)\n",
      "/var/folders/yk/knvjxvn50c1gh3cqkf73vnlc0000gn/T/ipykernel_96369/4053716268.py:16: SettingWithCopyWarning: \n",
      "A value is trying to be set on a copy of a slice from a DataFrame.\n",
      "Try using .loc[row_indexer,col_indexer] = value instead\n",
      "\n",
      "See the caveats in the documentation: https://pandas.pydata.org/pandas-docs/stable/user_guide/indexing.html#returning-a-view-versus-a-copy\n",
      "  pulp['Lemma'] = pulp['POS tagged'].apply(lemmatize)\n"
     ]
    }
   ],
   "source": [
    "# Obtaining the stem words - Lemmatization \n",
    "from nltk.stem import WordNetLemmatizer\n",
    "wordnet_lemmatizer = WordNetLemmatizer()\n",
    "def lemmatize(pos_data):\n",
    "    lemma_rew = \" \"\n",
    "    for word, pos in pos_data:\n",
    "        if not pos:\n",
    "            lemma = word\n",
    "            lemma_rew = lemma_rew + \" \" + lemma\n",
    "        else:\n",
    "            lemma = wordnet_lemmatizer.lemmatize(word, pos=pos)\n",
    "            lemma_rew = lemma_rew + \" \" + lemma\n",
    "    return lemma_rew\n",
    "\n",
    "# Apply Lemmatization function to review_content \n",
    "godfather['Lemma'] = godfather['POS tagged'].apply(lemmatize)\n",
    "shawshank['Lemma'] = shawshank['POS tagged'].apply(lemmatize)\n",
    "pulp['Lemma'] = pulp['POS tagged'].apply(lemmatize)"
   ]
  },
  {
   "cell_type": "code",
   "execution_count": 124,
   "id": "471cbd0c",
   "metadata": {},
   "outputs": [],
   "source": [
    "# Building sentiment analysis using TextBlob\n",
    "\n",
    "# pip install TextBlob\n",
    "from textblob import TextBlob\n",
    "\n",
    "# function to calculate subjectivity\n",
    "def getSubjectivity(review):\n",
    "    return TextBlob(review).sentiment.subjectivity\n",
    "    # function to calculate polarity\n",
    "def getPolarity(review):\n",
    "    return TextBlob(review).sentiment.polarity\n",
    "\n",
    "# function to analyze the reviews\n",
    "def analysis(score):\n",
    "    if score < 0:\n",
    "        return 'Negative'\n",
    "    elif score == 0:\n",
    "        return 'Neutral'\n",
    "    else:\n",
    "        return 'Positive'"
   ]
  },
  {
   "cell_type": "code",
   "execution_count": 126,
   "id": "75b95a72",
   "metadata": {},
   "outputs": [
    {
     "data": {
      "text/html": [
       "<div>\n",
       "<style scoped>\n",
       "    .dataframe tbody tr th:only-of-type {\n",
       "        vertical-align: middle;\n",
       "    }\n",
       "\n",
       "    .dataframe tbody tr th {\n",
       "        vertical-align: top;\n",
       "    }\n",
       "\n",
       "    .dataframe thead th {\n",
       "        text-align: right;\n",
       "    }\n",
       "</style>\n",
       "<table border=\"1\" class=\"dataframe\">\n",
       "  <thead>\n",
       "    <tr style=\"text-align: right;\">\n",
       "      <th></th>\n",
       "      <th>review_content</th>\n",
       "      <th>Lemma</th>\n",
       "      <th>Polarity</th>\n",
       "      <th>Analysis</th>\n",
       "    </tr>\n",
       "  </thead>\n",
       "  <tbody>\n",
       "    <tr>\n",
       "      <th>793725</th>\n",
       "      <td>With his gift for rapt pauses, for caressing j...</td>\n",
       "      <td>gift rapt pause caress right syllable Freema...</td>\n",
       "      <td>0.228571</td>\n",
       "      <td>Positive</td>\n",
       "    </tr>\n",
       "    <tr>\n",
       "      <th>793726</th>\n",
       "      <td>With his gift for rapt pauses, for caressing j...</td>\n",
       "      <td>gift rapt pause caress right syllable Freema...</td>\n",
       "      <td>0.228571</td>\n",
       "      <td>Positive</td>\n",
       "    </tr>\n",
       "    <tr>\n",
       "      <th>793727</th>\n",
       "      <td>Shawshank is what might be described as an eth...</td>\n",
       "      <td>Shawshank might describe ethereal prison pic...</td>\n",
       "      <td>0.000000</td>\n",
       "      <td>Neutral</td>\n",
       "    </tr>\n",
       "    <tr>\n",
       "      <th>793728</th>\n",
       "      <td>It is able to sustain itself throughout its du...</td>\n",
       "      <td>able sustain throughout duration keep enrapt...</td>\n",
       "      <td>0.625000</td>\n",
       "      <td>Positive</td>\n",
       "    </tr>\n",
       "    <tr>\n",
       "      <th>793729</th>\n",
       "      <td>This is a film with excellent production value...</td>\n",
       "      <td>film excellent production value almost witho...</td>\n",
       "      <td>1.000000</td>\n",
       "      <td>Positive</td>\n",
       "    </tr>\n",
       "  </tbody>\n",
       "</table>\n",
       "</div>"
      ],
      "text/plain": [
       "                                           review_content  \\\n",
       "793725  With his gift for rapt pauses, for caressing j...   \n",
       "793726  With his gift for rapt pauses, for caressing j...   \n",
       "793727  Shawshank is what might be described as an eth...   \n",
       "793728  It is able to sustain itself throughout its du...   \n",
       "793729  This is a film with excellent production value...   \n",
       "\n",
       "                                                    Lemma  Polarity  Analysis  \n",
       "793725    gift rapt pause caress right syllable Freema...  0.228571  Positive  \n",
       "793726    gift rapt pause caress right syllable Freema...  0.228571  Positive  \n",
       "793727    Shawshank might describe ethereal prison pic...  0.000000   Neutral  \n",
       "793728    able sustain throughout duration keep enrapt...  0.625000  Positive  \n",
       "793729    film excellent production value almost witho...  1.000000  Positive  "
      ]
     },
     "execution_count": 126,
     "metadata": {},
     "output_type": "execute_result"
    }
   ],
   "source": [
    "# sentiment analaysis result of The Shawshank Redemption\n",
    "fin_shawshank = pd.DataFrame(shawshank[['review_content', 'Lemma']])\n",
    "fin_shawshank['Polarity'] = fin_shawshank['Lemma'].apply(getPolarity) \n",
    "fin_shawshank['Analysis'] = fin_shawshank['Polarity'].apply(analysis)\n",
    "fin_shawshank.head()"
   ]
  },
  {
   "cell_type": "code",
   "execution_count": 125,
   "id": "1ebfee75",
   "metadata": {},
   "outputs": [
    {
     "data": {
      "text/html": [
       "<div>\n",
       "<style scoped>\n",
       "    .dataframe tbody tr th:only-of-type {\n",
       "        vertical-align: middle;\n",
       "    }\n",
       "\n",
       "    .dataframe tbody tr th {\n",
       "        vertical-align: top;\n",
       "    }\n",
       "\n",
       "    .dataframe thead th {\n",
       "        text-align: right;\n",
       "    }\n",
       "</style>\n",
       "<table border=\"1\" class=\"dataframe\">\n",
       "  <thead>\n",
       "    <tr style=\"text-align: right;\">\n",
       "      <th></th>\n",
       "      <th>review_content</th>\n",
       "      <th>Lemma</th>\n",
       "      <th>Polarity</th>\n",
       "      <th>Analysis</th>\n",
       "    </tr>\n",
       "  </thead>\n",
       "  <tbody>\n",
       "    <tr>\n",
       "      <th>379574</th>\n",
       "      <td>One of the central American movies of the last...</td>\n",
       "      <td>One central American movie last year one suc...</td>\n",
       "      <td>0.152000</td>\n",
       "      <td>Positive</td>\n",
       "    </tr>\n",
       "    <tr>\n",
       "      <th>379575</th>\n",
       "      <td>Examining the meaning of family, violence, lov...</td>\n",
       "      <td>Examining meaning family violence love betra...</td>\n",
       "      <td>0.250000</td>\n",
       "      <td>Positive</td>\n",
       "    </tr>\n",
       "    <tr>\n",
       "      <th>379576</th>\n",
       "      <td>The years have been kind to this timeless Mafi...</td>\n",
       "      <td>year kind timeless Mafia epic seem particula...</td>\n",
       "      <td>0.418750</td>\n",
       "      <td>Positive</td>\n",
       "    </tr>\n",
       "    <tr>\n",
       "      <th>379577</th>\n",
       "      <td>All of the filmic arts - design, cinematograph...</td>\n",
       "      <td>filmic art design cinematography edit music ...</td>\n",
       "      <td>0.800000</td>\n",
       "      <td>Positive</td>\n",
       "    </tr>\n",
       "    <tr>\n",
       "      <th>379578</th>\n",
       "      <td>Coppola was signed to direct what was thought ...</td>\n",
       "      <td>Coppola sign direct think would pulp gangste...</td>\n",
       "      <td>0.333333</td>\n",
       "      <td>Positive</td>\n",
       "    </tr>\n",
       "  </tbody>\n",
       "</table>\n",
       "</div>"
      ],
      "text/plain": [
       "                                           review_content  \\\n",
       "379574  One of the central American movies of the last...   \n",
       "379575  Examining the meaning of family, violence, lov...   \n",
       "379576  The years have been kind to this timeless Mafi...   \n",
       "379577  All of the filmic arts - design, cinematograph...   \n",
       "379578  Coppola was signed to direct what was thought ...   \n",
       "\n",
       "                                                    Lemma  Polarity  Analysis  \n",
       "379574    One central American movie last year one suc...  0.152000  Positive  \n",
       "379575    Examining meaning family violence love betra...  0.250000  Positive  \n",
       "379576    year kind timeless Mafia epic seem particula...  0.418750  Positive  \n",
       "379577    filmic art design cinematography edit music ...  0.800000  Positive  \n",
       "379578    Coppola sign direct think would pulp gangste...  0.333333  Positive  "
      ]
     },
     "execution_count": 125,
     "metadata": {},
     "output_type": "execute_result"
    }
   ],
   "source": [
    "# sentiment analaysis result of The Godfather\n",
    "fin_godfather = pd.DataFrame(godfather[['review_content', 'Lemma']])\n",
    "fin_godfather['Polarity'] = fin_godfather['Lemma'].apply(getPolarity) \n",
    "fin_godfather['Analysis'] = fin_godfather['Polarity'].apply(analysis)\n",
    "fin_godfather.head()"
   ]
  },
  {
   "cell_type": "code",
   "execution_count": 127,
   "id": "32f33e33",
   "metadata": {},
   "outputs": [
    {
     "data": {
      "text/html": [
       "<div>\n",
       "<style scoped>\n",
       "    .dataframe tbody tr th:only-of-type {\n",
       "        vertical-align: middle;\n",
       "    }\n",
       "\n",
       "    .dataframe tbody tr th {\n",
       "        vertical-align: top;\n",
       "    }\n",
       "\n",
       "    .dataframe thead th {\n",
       "        text-align: right;\n",
       "    }\n",
       "</style>\n",
       "<table border=\"1\" class=\"dataframe\">\n",
       "  <thead>\n",
       "    <tr style=\"text-align: right;\">\n",
       "      <th></th>\n",
       "      <th>review_content</th>\n",
       "      <th>Lemma</th>\n",
       "      <th>Polarity</th>\n",
       "      <th>Analysis</th>\n",
       "    </tr>\n",
       "  </thead>\n",
       "  <tbody>\n",
       "    <tr>\n",
       "      <th>680196</th>\n",
       "      <td>See it on a big screen with lots of folks in t...</td>\n",
       "      <td>See big screen lot folk audience maximum enj...</td>\n",
       "      <td>0.000000</td>\n",
       "      <td>Neutral</td>\n",
       "    </tr>\n",
       "    <tr>\n",
       "      <th>680197</th>\n",
       "      <td>Pulp Fiction is violent, profane and filled wi...</td>\n",
       "      <td>Pulp Fiction violent profane fill addict rac...</td>\n",
       "      <td>-0.266667</td>\n",
       "      <td>Negative</td>\n",
       "    </tr>\n",
       "    <tr>\n",
       "      <th>680198</th>\n",
       "      <td>How many movies have there been since which ha...</td>\n",
       "      <td>many movie since copy formula fresh energeti...</td>\n",
       "      <td>0.340000</td>\n",
       "      <td>Positive</td>\n",
       "    </tr>\n",
       "    <tr>\n",
       "      <th>680199</th>\n",
       "      <td>Pulp Fiction is great American entertainment, ...</td>\n",
       "      <td>Pulp Fiction great American entertainment st...</td>\n",
       "      <td>0.433333</td>\n",
       "      <td>Positive</td>\n",
       "    </tr>\n",
       "    <tr>\n",
       "      <th>680200</th>\n",
       "      <td>Royale with cheese, baby, royale with cheese.</td>\n",
       "      <td>Royale cheese baby royale cheese</td>\n",
       "      <td>0.000000</td>\n",
       "      <td>Neutral</td>\n",
       "    </tr>\n",
       "  </tbody>\n",
       "</table>\n",
       "</div>"
      ],
      "text/plain": [
       "                                           review_content  \\\n",
       "680196  See it on a big screen with lots of folks in t...   \n",
       "680197  Pulp Fiction is violent, profane and filled wi...   \n",
       "680198  How many movies have there been since which ha...   \n",
       "680199  Pulp Fiction is great American entertainment, ...   \n",
       "680200      Royale with cheese, baby, royale with cheese.   \n",
       "\n",
       "                                                    Lemma  Polarity  Analysis  \n",
       "680196    See big screen lot folk audience maximum enj...  0.000000   Neutral  \n",
       "680197    Pulp Fiction violent profane fill addict rac... -0.266667  Negative  \n",
       "680198    many movie since copy formula fresh energeti...  0.340000  Positive  \n",
       "680199    Pulp Fiction great American entertainment st...  0.433333  Positive  \n",
       "680200                   Royale cheese baby royale cheese  0.000000   Neutral  "
      ]
     },
     "execution_count": 127,
     "metadata": {},
     "output_type": "execute_result"
    }
   ],
   "source": [
    "# sentiment analaysis result of The Pulp Fiction\n",
    "fin_pulp = pd.DataFrame(pulp[['review_content', 'Lemma']])\n",
    "fin_pulp['Polarity'] = fin_pulp['Lemma'].apply(getPolarity) \n",
    "fin_pulp['Analysis'] = fin_pulp['Polarity'].apply(analysis)\n",
    "fin_pulp.head()"
   ]
  },
  {
   "cell_type": "code",
   "execution_count": 184,
   "id": "fe545642",
   "metadata": {},
   "outputs": [
    {
     "data": {
      "text/plain": [
       "<matplotlib.legend.Legend at 0x7fc2d71c2fd0>"
      ]
     },
     "execution_count": 184,
     "metadata": {},
     "output_type": "execute_result"
    },
    {
     "data": {
      "image/png": "[encoded data removed]",
      "text/plain": [
       "<Figure size 432x432 with 1 Axes>"
      ]
     },
     "metadata": {},
     "output_type": "display_data"
    }
   ],
   "source": [
    "# The Shawshank Redemption sentiment analysis result in Pie Chart\n",
    "fin_shawshank_counts = pd.DataFrame(fin_shawshank.groupby('Analysis')['review_content'].count()).reset_index()\n",
    "fin_shawshank_counts = fin_shawshank_counts.rename(columns={'Analysis':'sentiment','review_content':'review_count'})\n",
    "fin_shawshank_counts.groupby(['sentiment']).sum().plot(kind='pie',y='review_count',autopct= '%1.0f%%',figsize=(6,6)).legend(loc='upper right')\n"
   ]
  },
  {
   "cell_type": "code",
   "execution_count": 186,
   "id": "ae132f02",
   "metadata": {},
   "outputs": [
    {
     "data": {
      "text/plain": [
       "<matplotlib.legend.Legend at 0x7fc2d73a07c0>"
      ]
     },
     "execution_count": 186,
     "metadata": {},
     "output_type": "execute_result"
    },
    {
     "data": {
      "image/png": "[encoded data removed]",
      "text/plain": [
       "<Figure size 432x432 with 1 Axes>"
      ]
     },
     "metadata": {},
     "output_type": "display_data"
    }
   ],
   "source": [
    "# The Godfather sentiment analysis result in Pie Chart\n",
    "fin_godfather_counts = pd.DataFrame(fin_godfather.groupby('Analysis')['review_content'].count()).reset_index()\n",
    "fin_godfather_counts = fin_godfather_counts.rename(columns={'Analysis':'sentiment','review_content':'review_count'})\n",
    "fin_godfather_counts.groupby(['sentiment']).sum().plot(kind='pie',y='review_count',autopct= '%1.0f%%',figsize=(6,6)).legend(loc='upper right')\n"
   ]
  },
  {
   "cell_type": "code",
   "execution_count": 183,
   "id": "00f509ca",
   "metadata": {},
   "outputs": [
    {
     "data": {
      "text/plain": [
       "<matplotlib.legend.Legend at 0x7fc2a9bc1580>"
      ]
     },
     "execution_count": 183,
     "metadata": {},
     "output_type": "execute_result"
    },
    {
     "data": {
      "image/png": "[encoded data removed]",
      "text/plain": [
       "<Figure size 432x432 with 1 Axes>"
      ]
     },
     "metadata": {},
     "output_type": "display_data"
    }
   ],
   "source": [
    "# The Pulp Fiction sentiment analysis result in Pie Chart\n",
    "fin_pulp_counts = pd.DataFrame(fin_pulp.groupby('Analysis')['review_content'].count()).reset_index()\n",
    "fin_pulp_counts = fin_pulp_counts.rename(columns={'Analysis':'sentiment','review_content':'review_count'})\n",
    "fin_pulp_counts.groupby(['sentiment']).sum().plot(kind='pie',y='review_count',autopct= '%1.0f%%',figsize=(6,6)).legend(loc='upper right')\n"
   ]
  },
  {
   "cell_type": "markdown",
   "id": "2b75e5e0",
   "metadata": {},
   "source": [
    "    Sentiment Analysis Results in percentage (%)\n",
    "                                    Positive    Neutral    Negative\n",
    "    (1)The Shawshank Redemption     68          16         16\n",
    "    (2)The Godfather                70          15         14\n",
    "    (3)Pulp Fiction                 69          15         16\n",
    "\n",
    "From the sentiment analysis, I realized that The Godfather got the most positive and the least negative reviews whereas The Shawshank Redemption ranked last in the positive reviews. However, the reason why The Shawshank Redemption won the battle in our previous TMDb average rating section is because of its highest neutral comments. The Shawshank Redemption is a story that all of us can interpret, relate to, and appreciate. Hence, most of the comments’ sentiment remained as neutral. Aspects of this movie are not contentious or topics of heated discussions. Most of the audience do not have a problem liking the movie or seeing it on top of the list. Extending this fairly ideal scenario to a larger audience, it is only natural that the most popular one wins. We can draw parallels to this theory in real life too.\n",
    "\n",
    "\n",
    "\n",
    "### Conclusion\n",
    "\n",
    "Due to the analysis above, I can conclude that votes (views) and ratings indeed have a direct relationship with a movie's overall ranking. However, the Top Critic did not match the ranking. Thus, rather than placing a film at a specific level, the Top Critic mainly showcased whether a film received lots of debate. Meanwhile, the number of Positive and Negative comments could be much higher than the Neutral ones. A movie with many neutral comments could represent peoples' natural appreciation of a common social, cultural, historical topic or incident. In a nutshell, this analytical model can help American streaming platforms to pick top popular movies and to understand their audiences' positive, neutral, and negative opinions for further commercial marketing and streaming selections.   \n",
    "\n",
    "However, there is also a shortage of our sentiment analysis. The complete sentiment of a piece of text would not always pinpoint the root cause of an audience’s opinion. In general, movie reviews contain fine-grained sentiment about different aspects of the service that are mentioned in texts. A review about a movie may contain opinionated sentences about its story, cast, direction, etc. Therefore, for future development, we can identify different aspects of a movie, and determine the context of a particular group of sentences in the movie review to help users understand the positive and negative parts of a movie. \n",
    "\n",
    "\n",
    "\n",
    "### Reference\n",
    "\n",
    "#### TMDb Updated movie votes dataset\n",
    "https://www.kaggle.com/datasets/jillanisofttech/updatedtmdb-movies-dataset\n",
    "\n",
    "#### Rotten Tomatoes movies and critic reviews dataset\n",
    "https://www.kaggle.com/datasets/stefanoleone992/rotten-tomatoes-movies-and-critic-reviews-dataset\n"
   ]
  }
 ],
 "metadata": {
  "kernelspec": {
   "display_name": "Python 3 (ipykernel)",
   "language": "python",
   "name": "python3"
  },
  "language_info": {
   "codemirror_mode": {
    "name": "ipython",
    "version": 3
   },
   "file_extension": ".py",
   "mimetype": "text/x-python",
   "name": "python",
   "nbconvert_exporter": "python",
   "pygments_lexer": "ipython3",
   "version": "3.9.7"
  }
 },
 "nbformat": 4,
 "nbformat_minor": 5
}
